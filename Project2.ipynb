{
  "nbformat": 4,
  "nbformat_minor": 0,
  "metadata": {
    "colab": {
      "name": "Project2",
      "provenance": [],
      "collapsed_sections": [],
      "include_colab_link": true
    },
    "kernelspec": {
      "name": "python3",
      "display_name": "Python 3"
    }
  },
  "cells": [
    {
      "cell_type": "markdown",
      "metadata": {
        "id": "view-in-github",
        "colab_type": "text"
      },
      "source": [
        "<a href=\"https://colab.research.google.com/github/gtareque/dataWrangling/blob/main/Project2.ipynb\" target=\"_parent\"><img src=\"https://colab.research.google.com/assets/colab-badge.svg\" alt=\"Open In Colab\"/></a>"
      ]
    },
    {
      "cell_type": "markdown",
      "metadata": {
        "id": "k3miFlbObJb1"
      },
      "source": [
        "## **Code Author:**\n",
        "*   Azim Murad\n",
        "*   G M Asif Tareque\n",
        "*   MH Jawad\n",
        "*   Last Modified: 26/09/2019\n",
        "\n",
        "\n",
        "\n"
      ]
    },
    {
      "cell_type": "code",
      "metadata": {
        "id": "swo5ZVaKF9P8"
      },
      "source": [
        "#All Import Statements go here\n",
        "import pandas as pd\n",
        "import numpy as np\n",
        "from sklearn.preprocessing import Imputer,StandardScaler,PolynomialFeatures\n",
        "from sklearn.metrics import confusion_matrix, accuracy_score, mutual_info_score\n",
        "from sklearn import neighbors\n",
        "from sklearn.model_selection import train_test_split\n",
        "from sklearn import preprocessing\n",
        "from sklearn.feature_selection import mutual_info_classif\n",
        "import matplotlib.pyplot as plt\n",
        "import re\n",
        "from sklearn.cluster import KMeans\n",
        "from itertools import product\n",
        "from string import ascii_lowercase\n",
        "import warnings\n",
        "warnings.filterwarnings('ignore')\n",
        "from sklearn.ensemble import RandomForestClassifier\n",
        "from sklearn import metrics"
      ],
      "execution_count": null,
      "outputs": []
    },
    {
      "cell_type": "code",
      "metadata": {
        "id": "IrOl9ClDaIVZ"
      },
      "source": [
        "# Datasets\n",
        "amazon_csv = \"https://raw.githubusercontent.com/intexbackupa2z/Project-2/master/amazon(1).csv\"\n",
        "google_csv = \"https://raw.githubusercontent.com/intexbackupa2z/Project-2/master/google(1).csv\"\n",
        "amazon_google_truth_csv = \"https://raw.githubusercontent.com/intexbackupa2z/Project-2/master/amazon_google_truth(1).csv\"\n",
        "amazon_small_csv = \"https://raw.githubusercontent.com/intexbackupa2z/Project-2/master/amazon_small(1).csv\"\n",
        "google_small_csv = \"https://raw.githubusercontent.com/intexbackupa2z/Project-2/master/google_small(1).csv\"\n",
        "amazon_google_truth_small_csv = \"https://raw.githubusercontent.com/intexbackupa2z/Project-2/master/amazon_google_truth_small(1).csv\"\n",
        "all_yeast_csv = \"https://raw.githubusercontent.com/intexbackupa2z/Project-2/master/all_yeast(1).csv\""
      ],
      "execution_count": null,
      "outputs": []
    },
    {
      "cell_type": "code",
      "metadata": {
        "id": "Xr_q5PPgrzMi"
      },
      "source": [
        "# dataframes of all datasets\n",
        "amazon = pd.read_csv(amazon_csv)\n",
        "google = pd.read_csv(google_csv)\n",
        "amazon_google_truth = pd.read_csv(amazon_google_truth_csv)\n",
        "amazon_small = pd.read_csv(amazon_small_csv)\n",
        "google_small = pd.read_csv(google_small_csv)\n",
        "amazon_google_truth_small = pd.read_csv(amazon_google_truth_small_csv)\n",
        "all_yeast = pd.read_csv(all_yeast_csv)"
      ],
      "execution_count": null,
      "outputs": []
    },
    {
      "cell_type": "markdown",
      "metadata": {
        "id": "psOZbfL2J1sJ"
      },
      "source": [
        "# Part 1 - Data Linkage"
      ]
    },
    {
      "cell_type": "markdown",
      "metadata": {
        "id": "eoYRUfxExVO1"
      },
      "source": [
        "## Naive Linkage"
      ]
    },
    {
      "cell_type": "code",
      "metadata": {
        "id": "bHHbYyDw1URE"
      },
      "source": [
        "# function to generate n grams\n",
        "\n",
        "def two_grams(string): \n",
        "    # tokenizes strings to 2-grams\n",
        "    ngrams = []\n",
        "    for i in range(0, len(string)):\n",
        "        if(i == 0):\n",
        "            ngrams.append(\" \" + string[0])\n",
        "        else:\n",
        "            ngrams.append(string[i - 1: i + 1])\n",
        "    ngrams.append(string[i] + \" \")  # the last character + a space\n",
        "    return ngrams\n",
        "#-------------------------------------------\n",
        "\n",
        "# function for jaccard index \n",
        "def jacard_similarity(s1, s2):\n",
        "    s1 = s1.lower()\n",
        "    s2 = s2.lower()\n",
        "    ngrams1 = two_grams(s1)\n",
        "    ngrams2 = two_grams(s2)\n",
        "    intersection = set(ngrams1).intersection(set(ngrams2))\n",
        "    union = set(ngrams1).union(set(ngrams2))\n",
        "    score = len(intersection)/len(union)\n",
        "    return score\n",
        "#------------------------------------------------\n",
        "\n",
        "# makes the link between matching data\n",
        "def linking_data(amazon_df, google_df, true_matches, linkage):\n",
        "    for A in amazon_df.T:\n",
        "        threshold = 0.24\n",
        "        amazon_id = amazon_df.T[A][\"idAmazon\"]\n",
        "        for G in google_df.T:    \n",
        "            sim = jacard_similarity(google_df.T[G][\"name\"],\n",
        "                                    amazon_df.T[A][\"title\"])\n",
        "            if sim >= threshold:\n",
        "                linkage[amazon_id] = google_df.T[G][\"idGoogleBase\"]\n",
        "                threshold = sim  \n",
        "    \n",
        "#----------------------------------------------\n",
        "def confusion_matrix(amazon_df, true_matches, linkage):\n",
        "    tp = tn = fp = fn = 0 \n",
        "    for A in amazon_df.T:\n",
        "        \n",
        "        amazon_id = amazon_df.T[A][\"idAmazon\"]\n",
        "        # Positive\n",
        "        if amazon_id in linkage:\n",
        "            if amazon_id in true_matches.index:\n",
        "                #True Positive:\n",
        "                if str(linkage[amazon_id]) == str(true_matches[\"idGoogleBase\"]\n",
        "                                                  [amazon_id]):\n",
        "                    tp += 1\n",
        "                #False positive\n",
        "                if str(linkage[amazon_id]) != str(true_matches[\"idGoogleBase\"]\n",
        "                                                  [amazon_id]):\n",
        "                    fp += 1\n",
        "            if amazon_id not in true_matches.index:\n",
        "                #false positive\n",
        "                fp += 1\n",
        "\n",
        "        # Negative\n",
        "        if amazon_id not in  linkage:\n",
        "            if amazon_id not in true_matches.index:\n",
        "                tn += 1\n",
        "            if amazon_id in true_matches.index:\n",
        "                fn += 1\n",
        "    \n",
        "    print(\"True Positives\",tp)\n",
        "    print(\"False Positives\",fp)\n",
        "    print(\"True Negative\", tn)\n",
        "    print(\"False Negative\",fn)\n",
        "    recall = tp/(tp + fn)\n",
        "    precision = tp/(tp + fp)\n",
        "    print(\"Recall =\",recall)\n",
        "    print(\"precision =\",precision)\n",
        "    print(\"tp+fp+tn+fn =\",tp+fp+tn+fn)\n",
        "    \n",
        "# function to find PR and RR\n",
        "def evaluate_block_linking(amazon_df, true_matches, linkage):\n",
        "    tp = tn = fp = fn = 0 \n",
        "    for A in amazon_df.T:\n",
        "        amazon_id = amazon_df.T[A][\"idAmazon\"]\n",
        "        #Positive\n",
        "        if amazon_id in linkage:\n",
        "            if amazon_id in true_matches.index:\n",
        "                #True Positive:\n",
        "                if str(linkage[amazon_id]) == str(true_matches[\"idGoogleBase\"][amazon_id]):\n",
        "                    tp += 1\n",
        "                #False positive\n",
        "                if str(linkage[amazon_id]) != str(true_matches[\"idGoogleBase\"][amazon_id]):\n",
        "                    fp += 1\n",
        "            if amazon_id not in true_matches.index:\n",
        "                #false positive\n",
        "                fp += 1\n",
        "\n",
        "        #Negative\n",
        "        if amazon_id not in  linkage:\n",
        "            if amazon_id not in true_matches.index:\n",
        "                tn += 1\n",
        "            if amazon_id in true_matches.index:\n",
        "                fn += 1\n",
        "    n = fp+fn+tp+tn\n",
        "    PC = tp/(tp+fn)\n",
        "    RR = 1-(tp+fp)/n\n",
        "    print(\"True Positives\",tp)\n",
        "    print(\"False Positives\",fp)\n",
        "    print(\"True Negatives\", tn)\n",
        "    print(\"False Negative\",fn)\n",
        "    print(\"PC: \", PC)\n",
        "    print(\"RR:\", RR)"
      ],
      "execution_count": null,
      "outputs": []
    },
    {
      "cell_type": "code",
      "metadata": {
        "id": "3xm5dHRWgEtT",
        "colab": {
          "base_uri": "https://localhost:8080/",
          "height": 136
        },
        "outputId": "9244da58-972e-4e14-a569-7be838d9dd2d"
      },
      "source": [
        "# Calling the functions for Naive Linkage\n",
        "true_matches = amazon_google_truth_small.set_index(\"idAmazon\")\n",
        "linkage = {}  # dictionary to store the matching pairs in naive linkage\n",
        "linking_data(amazon_small, google_small, true_matches, linkage)\n",
        "confusion_matrix(amazon_small, true_matches,linkage)"
      ],
      "execution_count": null,
      "outputs": [
        {
          "output_type": "stream",
          "text": [
            "True Positives 124\n",
            "False Positives 16\n",
            "True Negative 8\n",
            "False Negative 0\n",
            "Recall = 1.0\n",
            "precision = 0.8857142857142857\n",
            "tp+fp+tn+fn = 148\n"
          ],
          "name": "stdout"
        }
      ]
    },
    {
      "cell_type": "markdown",
      "metadata": {
        "id": "Fu0DcGdMVqhm"
      },
      "source": [
        "### Discussion\n",
        "The jaccard index function was chosen as it is a token based function. The strings were tokenized to 2-grams. We also considered the fact that the names are not that large of a string which makes jaccard the ideal function. For threshold we experimented using a for loop with a value from 0 to 1 with intervals of 0.1 which showed 0.2 to 0.3 which showed the ideal result. Then the range was changed to 0.2 to 0.3 with interval of 0.01 and hence 0.24 was attained. The threshold dynamically changes after each iteration. Overall, the method has great precision with high number of True positives and 0 False negatives. \n"
      ]
    },
    {
      "cell_type": "markdown",
      "metadata": {
        "id": "DWc0HuWtL2LY"
      },
      "source": [
        "## Blocking"
      ]
    },
    {
      "cell_type": "code",
      "metadata": {
        "id": "bjvqpXbHBUfE"
      },
      "source": [
        "google = google.rename(columns = {\"id\":\"idGoogleBase\"})\n"
      ],
      "execution_count": null,
      "outputs": []
    },
    {
      "cell_type": "code",
      "metadata": {
        "id": "JdYWA7aIKb97"
      },
      "source": [
        "# removing gbp and conver to aud with the current rate of 1.83 as shown in google\n",
        "for G in google.T:\n",
        "    found = re.search('gbp', google.T[G][\"price\"])\n",
        "    if(found):\n",
        "        x = re.split(' ' , google.T[G][\"price\"])\n",
        "        \n",
        "        google.T[G][\"price\"] = float(x[0]) *  1.83\n",
        "    "
      ],
      "execution_count": null,
      "outputs": []
    },
    {
      "cell_type": "code",
      "metadata": {
        "id": "MTHh5TjaUknm"
      },
      "source": [
        "google[\"price\"] = google[\"price\"].astype(\"float64\")"
      ],
      "execution_count": null,
      "outputs": []
    },
    {
      "cell_type": "code",
      "metadata": {
        "id": "G-PROMc29TD5"
      },
      "source": [
        "block = []\n",
        "p = 0.0\n",
        "while( p < 1000.0):\n",
        "    block.append(p)\n",
        "    p += 5"
      ],
      "execution_count": null,
      "outputs": []
    },
    {
      "cell_type": "code",
      "metadata": {
        "id": "Vt_TmmAkSNxi",
        "colab": {
          "base_uri": "https://localhost:8080/",
          "height": 341
        },
        "outputId": "3ca197a1-3010-4f35-cb6c-789b28d9a8df"
      },
      "source": [
        "linkage_blocks = {}\n",
        "google_copy = google.copy()\n",
        "for b in block:\n",
        "    google_block = google[(google[\"price\"] >= b)]\n",
        "    google_block = google_block[(google_block[\"price\"] < b + 5)]\n",
        "    amazon_block = amazon[(amazon[\"price\"] >= b)]\n",
        "    amazon_block = amazon_block[(amazon_block[\"price\"] < b + 5)]\n",
        "    linking_data(amazon_block, google_block, amazon_google_truth , linkage_blocks)"
      ],
      "execution_count": null,
      "outputs": [
        {
          "output_type": "error",
          "ename": "KeyboardInterrupt",
          "evalue": "ignored",
          "traceback": [
            "\u001b[0;31m---------------------------------------------------------------------------\u001b[0m",
            "\u001b[0;31mKeyboardInterrupt\u001b[0m                         Traceback (most recent call last)",
            "\u001b[0;32m<ipython-input-11-f9c9314e6b8a>\u001b[0m in \u001b[0;36m<module>\u001b[0;34m()\u001b[0m\n\u001b[1;32m      6\u001b[0m     \u001b[0mamazon_block\u001b[0m \u001b[0;34m=\u001b[0m \u001b[0mamazon\u001b[0m\u001b[0;34m[\u001b[0m\u001b[0;34m(\u001b[0m\u001b[0mamazon\u001b[0m\u001b[0;34m[\u001b[0m\u001b[0;34m\"price\"\u001b[0m\u001b[0;34m]\u001b[0m \u001b[0;34m>=\u001b[0m \u001b[0mb\u001b[0m\u001b[0;34m)\u001b[0m\u001b[0;34m]\u001b[0m\u001b[0;34m\u001b[0m\u001b[0;34m\u001b[0m\u001b[0m\n\u001b[1;32m      7\u001b[0m     \u001b[0mamazon_block\u001b[0m \u001b[0;34m=\u001b[0m \u001b[0mamazon_block\u001b[0m\u001b[0;34m[\u001b[0m\u001b[0;34m(\u001b[0m\u001b[0mamazon_block\u001b[0m\u001b[0;34m[\u001b[0m\u001b[0;34m\"price\"\u001b[0m\u001b[0;34m]\u001b[0m \u001b[0;34m<\u001b[0m \u001b[0mb\u001b[0m \u001b[0;34m+\u001b[0m \u001b[0;36m5\u001b[0m\u001b[0;34m)\u001b[0m\u001b[0;34m]\u001b[0m\u001b[0;34m\u001b[0m\u001b[0;34m\u001b[0m\u001b[0m\n\u001b[0;32m----> 8\u001b[0;31m     \u001b[0mlinking_data\u001b[0m\u001b[0;34m(\u001b[0m\u001b[0mamazon_block\u001b[0m\u001b[0;34m,\u001b[0m \u001b[0mgoogle_block\u001b[0m\u001b[0;34m,\u001b[0m \u001b[0mamazon_google_truth\u001b[0m \u001b[0;34m,\u001b[0m \u001b[0mlinkage_blocks\u001b[0m\u001b[0;34m)\u001b[0m\u001b[0;34m\u001b[0m\u001b[0;34m\u001b[0m\u001b[0m\n\u001b[0m",
            "\u001b[0;32m<ipython-input-5-248e1d0308e6>\u001b[0m in \u001b[0;36mlinking_data\u001b[0;34m(amazon_df, google_df, true_matches, linkage)\u001b[0m\n\u001b[1;32m     31\u001b[0m         \u001b[0;32mfor\u001b[0m \u001b[0mG\u001b[0m \u001b[0;32min\u001b[0m \u001b[0mgoogle_df\u001b[0m\u001b[0;34m.\u001b[0m\u001b[0mT\u001b[0m\u001b[0;34m:\u001b[0m\u001b[0;34m\u001b[0m\u001b[0;34m\u001b[0m\u001b[0m\n\u001b[1;32m     32\u001b[0m             sim = jacard_similarity(google_df.T[G][\"name\"],\n\u001b[0;32m---> 33\u001b[0;31m                                     amazon_df.T[A][\"title\"])\n\u001b[0m\u001b[1;32m     34\u001b[0m             \u001b[0;32mif\u001b[0m \u001b[0msim\u001b[0m \u001b[0;34m>=\u001b[0m \u001b[0mthreshold\u001b[0m\u001b[0;34m:\u001b[0m\u001b[0;34m\u001b[0m\u001b[0;34m\u001b[0m\u001b[0m\n\u001b[1;32m     35\u001b[0m                 \u001b[0mlinkage\u001b[0m\u001b[0;34m[\u001b[0m\u001b[0mamazon_id\u001b[0m\u001b[0;34m]\u001b[0m \u001b[0;34m=\u001b[0m \u001b[0mgoogle_df\u001b[0m\u001b[0;34m.\u001b[0m\u001b[0mT\u001b[0m\u001b[0;34m[\u001b[0m\u001b[0mG\u001b[0m\u001b[0;34m]\u001b[0m\u001b[0;34m[\u001b[0m\u001b[0;34m\"idGoogleBase\"\u001b[0m\u001b[0;34m]\u001b[0m\u001b[0;34m\u001b[0m\u001b[0;34m\u001b[0m\u001b[0m\n",
            "\u001b[0;32m/usr/local/lib/python3.6/dist-packages/pandas/core/frame.py\u001b[0m in \u001b[0;36mtranspose\u001b[0;34m(self, *args, **kwargs)\u001b[0m\n\u001b[1;32m   2696\u001b[0m         \"\"\"\n\u001b[1;32m   2697\u001b[0m         \u001b[0mnv\u001b[0m\u001b[0;34m.\u001b[0m\u001b[0mvalidate_transpose\u001b[0m\u001b[0;34m(\u001b[0m\u001b[0margs\u001b[0m\u001b[0;34m,\u001b[0m \u001b[0mdict\u001b[0m\u001b[0;34m(\u001b[0m\u001b[0;34m)\u001b[0m\u001b[0;34m)\u001b[0m\u001b[0;34m\u001b[0m\u001b[0;34m\u001b[0m\u001b[0m\n\u001b[0;32m-> 2698\u001b[0;31m         \u001b[0;32mreturn\u001b[0m \u001b[0msuper\u001b[0m\u001b[0;34m(\u001b[0m\u001b[0mDataFrame\u001b[0m\u001b[0;34m,\u001b[0m \u001b[0mself\u001b[0m\u001b[0;34m)\u001b[0m\u001b[0;34m.\u001b[0m\u001b[0mtranspose\u001b[0m\u001b[0;34m(\u001b[0m\u001b[0;36m1\u001b[0m\u001b[0;34m,\u001b[0m \u001b[0;36m0\u001b[0m\u001b[0;34m,\u001b[0m \u001b[0;34m**\u001b[0m\u001b[0mkwargs\u001b[0m\u001b[0;34m)\u001b[0m\u001b[0;34m\u001b[0m\u001b[0;34m\u001b[0m\u001b[0m\n\u001b[0m\u001b[1;32m   2699\u001b[0m \u001b[0;34m\u001b[0m\u001b[0m\n\u001b[1;32m   2700\u001b[0m     \u001b[0mT\u001b[0m \u001b[0;34m=\u001b[0m \u001b[0mproperty\u001b[0m\u001b[0;34m(\u001b[0m\u001b[0mtranspose\u001b[0m\u001b[0;34m)\u001b[0m\u001b[0;34m\u001b[0m\u001b[0;34m\u001b[0m\u001b[0m\n",
            "\u001b[0;32m/usr/local/lib/python3.6/dist-packages/pandas/core/generic.py\u001b[0m in \u001b[0;36mtranspose\u001b[0;34m(self, *args, **kwargs)\u001b[0m\n\u001b[1;32m    674\u001b[0m         new_axes = self._construct_axes_dict_from(self, [self._get_axis(x)\n\u001b[1;32m    675\u001b[0m                                                          for x in axes_names])\n\u001b[0;32m--> 676\u001b[0;31m         \u001b[0mnew_values\u001b[0m \u001b[0;34m=\u001b[0m \u001b[0mself\u001b[0m\u001b[0;34m.\u001b[0m\u001b[0mvalues\u001b[0m\u001b[0;34m.\u001b[0m\u001b[0mtranspose\u001b[0m\u001b[0;34m(\u001b[0m\u001b[0maxes_numbers\u001b[0m\u001b[0;34m)\u001b[0m\u001b[0;34m\u001b[0m\u001b[0;34m\u001b[0m\u001b[0m\n\u001b[0m\u001b[1;32m    677\u001b[0m         \u001b[0;32mif\u001b[0m \u001b[0mkwargs\u001b[0m\u001b[0;34m.\u001b[0m\u001b[0mpop\u001b[0m\u001b[0;34m(\u001b[0m\u001b[0;34m'copy'\u001b[0m\u001b[0;34m,\u001b[0m \u001b[0;32mNone\u001b[0m\u001b[0;34m)\u001b[0m \u001b[0;32mor\u001b[0m \u001b[0;34m(\u001b[0m\u001b[0mlen\u001b[0m\u001b[0;34m(\u001b[0m\u001b[0margs\u001b[0m\u001b[0;34m)\u001b[0m \u001b[0;32mand\u001b[0m \u001b[0margs\u001b[0m\u001b[0;34m[\u001b[0m\u001b[0;34m-\u001b[0m\u001b[0;36m1\u001b[0m\u001b[0;34m]\u001b[0m\u001b[0;34m)\u001b[0m\u001b[0;34m:\u001b[0m\u001b[0;34m\u001b[0m\u001b[0;34m\u001b[0m\u001b[0m\n\u001b[1;32m    678\u001b[0m             \u001b[0mnew_values\u001b[0m \u001b[0;34m=\u001b[0m \u001b[0mnew_values\u001b[0m\u001b[0;34m.\u001b[0m\u001b[0mcopy\u001b[0m\u001b[0;34m(\u001b[0m\u001b[0;34m)\u001b[0m\u001b[0;34m\u001b[0m\u001b[0;34m\u001b[0m\u001b[0m\n",
            "\u001b[0;32m/usr/local/lib/python3.6/dist-packages/pandas/core/generic.py\u001b[0m in \u001b[0;36mvalues\u001b[0;34m(self)\u001b[0m\n\u001b[1;32m   5322\u001b[0m                ['monkey', nan, None]], dtype=object)\n\u001b[1;32m   5323\u001b[0m         \"\"\"\n\u001b[0;32m-> 5324\u001b[0;31m         \u001b[0mself\u001b[0m\u001b[0;34m.\u001b[0m\u001b[0m_consolidate_inplace\u001b[0m\u001b[0;34m(\u001b[0m\u001b[0;34m)\u001b[0m\u001b[0;34m\u001b[0m\u001b[0;34m\u001b[0m\u001b[0m\n\u001b[0m\u001b[1;32m   5325\u001b[0m         \u001b[0;32mreturn\u001b[0m \u001b[0mself\u001b[0m\u001b[0;34m.\u001b[0m\u001b[0m_data\u001b[0m\u001b[0;34m.\u001b[0m\u001b[0mas_array\u001b[0m\u001b[0;34m(\u001b[0m\u001b[0mtranspose\u001b[0m\u001b[0;34m=\u001b[0m\u001b[0mself\u001b[0m\u001b[0;34m.\u001b[0m\u001b[0m_AXIS_REVERSED\u001b[0m\u001b[0;34m)\u001b[0m\u001b[0;34m\u001b[0m\u001b[0;34m\u001b[0m\u001b[0m\n\u001b[1;32m   5326\u001b[0m \u001b[0;34m\u001b[0m\u001b[0m\n",
            "\u001b[0;32m/usr/local/lib/python3.6/dist-packages/pandas/core/generic.py\u001b[0m in \u001b[0;36m_consolidate_inplace\u001b[0;34m(self)\u001b[0m\n\u001b[1;32m   5136\u001b[0m             \u001b[0mself\u001b[0m\u001b[0;34m.\u001b[0m\u001b[0m_data\u001b[0m \u001b[0;34m=\u001b[0m \u001b[0mself\u001b[0m\u001b[0;34m.\u001b[0m\u001b[0m_data\u001b[0m\u001b[0;34m.\u001b[0m\u001b[0mconsolidate\u001b[0m\u001b[0;34m(\u001b[0m\u001b[0;34m)\u001b[0m\u001b[0;34m\u001b[0m\u001b[0;34m\u001b[0m\u001b[0m\n\u001b[1;32m   5137\u001b[0m \u001b[0;34m\u001b[0m\u001b[0m\n\u001b[0;32m-> 5138\u001b[0;31m         \u001b[0mself\u001b[0m\u001b[0;34m.\u001b[0m\u001b[0m_protect_consolidate\u001b[0m\u001b[0;34m(\u001b[0m\u001b[0mf\u001b[0m\u001b[0;34m)\u001b[0m\u001b[0;34m\u001b[0m\u001b[0;34m\u001b[0m\u001b[0m\n\u001b[0m\u001b[1;32m   5139\u001b[0m \u001b[0;34m\u001b[0m\u001b[0m\n\u001b[1;32m   5140\u001b[0m     \u001b[0;32mdef\u001b[0m \u001b[0m_consolidate\u001b[0m\u001b[0;34m(\u001b[0m\u001b[0mself\u001b[0m\u001b[0;34m,\u001b[0m \u001b[0minplace\u001b[0m\u001b[0;34m=\u001b[0m\u001b[0;32mFalse\u001b[0m\u001b[0;34m)\u001b[0m\u001b[0;34m:\u001b[0m\u001b[0;34m\u001b[0m\u001b[0;34m\u001b[0m\u001b[0m\n",
            "\u001b[0;32m/usr/local/lib/python3.6/dist-packages/pandas/core/generic.py\u001b[0m in \u001b[0;36m_protect_consolidate\u001b[0;34m(self, f)\u001b[0m\n\u001b[1;32m   5125\u001b[0m         \"\"\"\n\u001b[1;32m   5126\u001b[0m         \u001b[0mblocks_before\u001b[0m \u001b[0;34m=\u001b[0m \u001b[0mlen\u001b[0m\u001b[0;34m(\u001b[0m\u001b[0mself\u001b[0m\u001b[0;34m.\u001b[0m\u001b[0m_data\u001b[0m\u001b[0;34m.\u001b[0m\u001b[0mblocks\u001b[0m\u001b[0;34m)\u001b[0m\u001b[0;34m\u001b[0m\u001b[0;34m\u001b[0m\u001b[0m\n\u001b[0;32m-> 5127\u001b[0;31m         \u001b[0mresult\u001b[0m \u001b[0;34m=\u001b[0m \u001b[0mf\u001b[0m\u001b[0;34m(\u001b[0m\u001b[0;34m)\u001b[0m\u001b[0;34m\u001b[0m\u001b[0;34m\u001b[0m\u001b[0m\n\u001b[0m\u001b[1;32m   5128\u001b[0m         \u001b[0;32mif\u001b[0m \u001b[0mlen\u001b[0m\u001b[0;34m(\u001b[0m\u001b[0mself\u001b[0m\u001b[0;34m.\u001b[0m\u001b[0m_data\u001b[0m\u001b[0;34m.\u001b[0m\u001b[0mblocks\u001b[0m\u001b[0;34m)\u001b[0m \u001b[0;34m!=\u001b[0m \u001b[0mblocks_before\u001b[0m\u001b[0;34m:\u001b[0m\u001b[0;34m\u001b[0m\u001b[0;34m\u001b[0m\u001b[0m\n\u001b[1;32m   5129\u001b[0m             \u001b[0mself\u001b[0m\u001b[0;34m.\u001b[0m\u001b[0m_clear_item_cache\u001b[0m\u001b[0;34m(\u001b[0m\u001b[0;34m)\u001b[0m\u001b[0;34m\u001b[0m\u001b[0;34m\u001b[0m\u001b[0m\n",
            "\u001b[0;32m/usr/local/lib/python3.6/dist-packages/pandas/core/generic.py\u001b[0m in \u001b[0;36mf\u001b[0;34m()\u001b[0m\n\u001b[1;32m   5134\u001b[0m \u001b[0;34m\u001b[0m\u001b[0m\n\u001b[1;32m   5135\u001b[0m         \u001b[0;32mdef\u001b[0m \u001b[0mf\u001b[0m\u001b[0;34m(\u001b[0m\u001b[0;34m)\u001b[0m\u001b[0;34m:\u001b[0m\u001b[0;34m\u001b[0m\u001b[0;34m\u001b[0m\u001b[0m\n\u001b[0;32m-> 5136\u001b[0;31m             \u001b[0mself\u001b[0m\u001b[0;34m.\u001b[0m\u001b[0m_data\u001b[0m \u001b[0;34m=\u001b[0m \u001b[0mself\u001b[0m\u001b[0;34m.\u001b[0m\u001b[0m_data\u001b[0m\u001b[0;34m.\u001b[0m\u001b[0mconsolidate\u001b[0m\u001b[0;34m(\u001b[0m\u001b[0;34m)\u001b[0m\u001b[0;34m\u001b[0m\u001b[0;34m\u001b[0m\u001b[0m\n\u001b[0m\u001b[1;32m   5137\u001b[0m \u001b[0;34m\u001b[0m\u001b[0m\n\u001b[1;32m   5138\u001b[0m         \u001b[0mself\u001b[0m\u001b[0;34m.\u001b[0m\u001b[0m_protect_consolidate\u001b[0m\u001b[0;34m(\u001b[0m\u001b[0mf\u001b[0m\u001b[0;34m)\u001b[0m\u001b[0;34m\u001b[0m\u001b[0;34m\u001b[0m\u001b[0m\n",
            "\u001b[0;32m/usr/local/lib/python3.6/dist-packages/pandas/core/generic.py\u001b[0m in \u001b[0;36m__setattr__\u001b[0;34m(self, name, value)\u001b[0m\n\u001b[1;32m   5078\u001b[0m         \u001b[0;32mtry\u001b[0m\u001b[0;34m:\u001b[0m\u001b[0;34m\u001b[0m\u001b[0;34m\u001b[0m\u001b[0m\n\u001b[1;32m   5079\u001b[0m             \u001b[0mobject\u001b[0m\u001b[0;34m.\u001b[0m\u001b[0m__getattribute__\u001b[0m\u001b[0;34m(\u001b[0m\u001b[0mself\u001b[0m\u001b[0;34m,\u001b[0m \u001b[0mname\u001b[0m\u001b[0;34m)\u001b[0m\u001b[0;34m\u001b[0m\u001b[0;34m\u001b[0m\u001b[0m\n\u001b[0;32m-> 5080\u001b[0;31m             \u001b[0;32mreturn\u001b[0m \u001b[0mobject\u001b[0m\u001b[0;34m.\u001b[0m\u001b[0m__setattr__\u001b[0m\u001b[0;34m(\u001b[0m\u001b[0mself\u001b[0m\u001b[0;34m,\u001b[0m \u001b[0mname\u001b[0m\u001b[0;34m,\u001b[0m \u001b[0mvalue\u001b[0m\u001b[0;34m)\u001b[0m\u001b[0;34m\u001b[0m\u001b[0;34m\u001b[0m\u001b[0m\n\u001b[0m\u001b[1;32m   5081\u001b[0m         \u001b[0;32mexcept\u001b[0m \u001b[0mAttributeError\u001b[0m\u001b[0;34m:\u001b[0m\u001b[0;34m\u001b[0m\u001b[0;34m\u001b[0m\u001b[0m\n\u001b[1;32m   5082\u001b[0m             \u001b[0;32mpass\u001b[0m\u001b[0;34m\u001b[0m\u001b[0;34m\u001b[0m\u001b[0m\n",
            "\u001b[0;31mKeyboardInterrupt\u001b[0m: "
          ]
        }
      ]
    },
    {
      "cell_type": "code",
      "metadata": {
        "id": "xrfgORTOg8aS"
      },
      "source": [
        "evaluate_block_linking(amazon, amazon_google_truth.set_index(\"idAmazon\"), linkage_blocks)"
      ],
      "execution_count": null,
      "outputs": []
    },
    {
      "cell_type": "markdown",
      "metadata": {
        "id": "GMoFB6hrjtd6"
      },
      "source": [
        "### Discussion\n",
        "1. Blocking Method:\n",
        "    1. Made blocks on \"Price\" in amazon and google\n",
        "    2. Made blocks on 5AUD gaps in range 0 to 1000\n",
        "    3. Price is the best feature to block as same product will have same price in both companies. Manufacturer had missing values. Blocking on the first character of names was considered but the RR was too low and accuracy was lower as well\n",
        "        \n",
        "          \n",
        "2. Quality:\n",
        "    1. The PC and the RR had moderate values for both "
      ]
    },
    {
      "cell_type": "markdown",
      "metadata": {
        "id": "eF6lpXU11YGz"
      },
      "source": [
        "# Part 2 - Classification"
      ]
    },
    {
      "cell_type": "markdown",
      "metadata": {
        "id": "fUHjWwaRKNvT"
      },
      "source": [
        "## Pre-processing"
      ]
    },
    {
      "cell_type": "markdown",
      "metadata": {
        "id": "q0wjegFcLihr"
      },
      "source": [
        "### Imputation"
      ]
    },
    {
      "cell_type": "code",
      "metadata": {
        "id": "eADHACHHMJTi",
        "colab": {
          "base_uri": "https://localhost:8080/",
          "height": 577
        },
        "outputId": "8818461d-cc50-4b6e-fcd5-21869079a8f2"
      },
      "source": [
        "mean_imputed = all_yeast.iloc[:, 1 : 9].values\n",
        "median_imputed = all_yeast.iloc[:, 1 : 9].values\n",
        "\n",
        "#preprocessing missing values\n",
        "# replacing with mean\n",
        "imputer = Imputer(missing_values = 'NaN', strategy = 'mean', axis = 0)\n",
        "imputer = imputer.fit(mean_imputed)\n",
        "mean_imputed = imputer.transform(mean_imputed)\n",
        "all_yeast_mean_impute = all_yeast.copy()\n",
        "all_yeast_mean_impute.iloc[:, 1 : 9] = mean_imputed\n",
        "\n",
        "#replacing with median \n",
        "imputer = Imputer(missing_values = 'NaN', strategy = 'median', axis = 0)\n",
        "imputer = imputer.fit(median_imputed)\n",
        "median_imputed = imputer.transform(median_imputed)\n",
        "all_yeast_median_impute = all_yeast.copy()\n",
        "all_yeast_median_impute.iloc[:, 1 : 9] = median_imputed\n",
        "\n",
        "#printing\n",
        "display(all_yeast_mean_impute.describe())\n",
        "display(all_yeast_median_impute.describe())"
      ],
      "execution_count": null,
      "outputs": [
        {
          "output_type": "display_data",
          "data": {
            "text/html": [
              "<div>\n",
              "<style scoped>\n",
              "    .dataframe tbody tr th:only-of-type {\n",
              "        vertical-align: middle;\n",
              "    }\n",
              "\n",
              "    .dataframe tbody tr th {\n",
              "        vertical-align: top;\n",
              "    }\n",
              "\n",
              "    .dataframe thead th {\n",
              "        text-align: right;\n",
              "    }\n",
              "</style>\n",
              "<table border=\"1\" class=\"dataframe\">\n",
              "  <thead>\n",
              "    <tr style=\"text-align: right;\">\n",
              "      <th></th>\n",
              "      <th>Sample</th>\n",
              "      <th>mcg</th>\n",
              "      <th>gvh</th>\n",
              "      <th>alm</th>\n",
              "      <th>mit</th>\n",
              "      <th>erl</th>\n",
              "      <th>pox</th>\n",
              "      <th>vac</th>\n",
              "      <th>nuc</th>\n",
              "    </tr>\n",
              "  </thead>\n",
              "  <tbody>\n",
              "    <tr>\n",
              "      <th>count</th>\n",
              "      <td>1484.000000</td>\n",
              "      <td>1484.000000</td>\n",
              "      <td>1484.000000</td>\n",
              "      <td>1484.000000</td>\n",
              "      <td>1484.000000</td>\n",
              "      <td>1484.000000</td>\n",
              "      <td>1484.000000</td>\n",
              "      <td>1484.000000</td>\n",
              "      <td>1484.000000</td>\n",
              "    </tr>\n",
              "    <tr>\n",
              "      <th>mean</th>\n",
              "      <td>742.500000</td>\n",
              "      <td>0.499349</td>\n",
              "      <td>0.499876</td>\n",
              "      <td>0.505848</td>\n",
              "      <td>0.264379</td>\n",
              "      <td>0.506921</td>\n",
              "      <td>0.007500</td>\n",
              "      <td>0.503816</td>\n",
              "      <td>0.279816</td>\n",
              "    </tr>\n",
              "    <tr>\n",
              "      <th>std</th>\n",
              "      <td>428.538213</td>\n",
              "      <td>0.131357</td>\n",
              "      <td>0.121945</td>\n",
              "      <td>0.199837</td>\n",
              "      <td>0.150286</td>\n",
              "      <td>0.091573</td>\n",
              "      <td>0.075683</td>\n",
              "      <td>0.153481</td>\n",
              "      <td>0.151736</td>\n",
              "    </tr>\n",
              "    <tr>\n",
              "      <th>min</th>\n",
              "      <td>1.000000</td>\n",
              "      <td>0.110000</td>\n",
              "      <td>0.130000</td>\n",
              "      <td>0.210000</td>\n",
              "      <td>0.000000</td>\n",
              "      <td>0.500000</td>\n",
              "      <td>0.000000</td>\n",
              "      <td>0.000000</td>\n",
              "      <td>0.000000</td>\n",
              "    </tr>\n",
              "    <tr>\n",
              "      <th>25%</th>\n",
              "      <td>371.750000</td>\n",
              "      <td>0.410000</td>\n",
              "      <td>0.420000</td>\n",
              "      <td>0.460000</td>\n",
              "      <td>0.170000</td>\n",
              "      <td>0.500000</td>\n",
              "      <td>0.000000</td>\n",
              "      <td>0.480000</td>\n",
              "      <td>0.220000</td>\n",
              "    </tr>\n",
              "    <tr>\n",
              "      <th>50%</th>\n",
              "      <td>742.500000</td>\n",
              "      <td>0.499349</td>\n",
              "      <td>0.490000</td>\n",
              "      <td>0.510000</td>\n",
              "      <td>0.230000</td>\n",
              "      <td>0.500000</td>\n",
              "      <td>0.000000</td>\n",
              "      <td>0.510000</td>\n",
              "      <td>0.220000</td>\n",
              "    </tr>\n",
              "    <tr>\n",
              "      <th>75%</th>\n",
              "      <td>1113.250000</td>\n",
              "      <td>0.562500</td>\n",
              "      <td>0.570000</td>\n",
              "      <td>0.550000</td>\n",
              "      <td>0.300000</td>\n",
              "      <td>0.500000</td>\n",
              "      <td>0.000000</td>\n",
              "      <td>0.530000</td>\n",
              "      <td>0.290000</td>\n",
              "    </tr>\n",
              "    <tr>\n",
              "      <th>max</th>\n",
              "      <td>1484.000000</td>\n",
              "      <td>1.000000</td>\n",
              "      <td>1.000000</td>\n",
              "      <td>7.501819</td>\n",
              "      <td>3.000728</td>\n",
              "      <td>3.500849</td>\n",
              "      <td>0.830000</td>\n",
              "      <td>6.001456</td>\n",
              "      <td>4.501092</td>\n",
              "    </tr>\n",
              "  </tbody>\n",
              "</table>\n",
              "</div>"
            ],
            "text/plain": [
              "            Sample          mcg  ...          vac          nuc\n",
              "count  1484.000000  1484.000000  ...  1484.000000  1484.000000\n",
              "mean    742.500000     0.499349  ...     0.503816     0.279816\n",
              "std     428.538213     0.131357  ...     0.153481     0.151736\n",
              "min       1.000000     0.110000  ...     0.000000     0.000000\n",
              "25%     371.750000     0.410000  ...     0.480000     0.220000\n",
              "50%     742.500000     0.499349  ...     0.510000     0.220000\n",
              "75%    1113.250000     0.562500  ...     0.530000     0.290000\n",
              "max    1484.000000     1.000000  ...     6.001456     4.501092\n",
              "\n",
              "[8 rows x 9 columns]"
            ]
          },
          "metadata": {
            "tags": []
          }
        },
        {
          "output_type": "display_data",
          "data": {
            "text/html": [
              "<div>\n",
              "<style scoped>\n",
              "    .dataframe tbody tr th:only-of-type {\n",
              "        vertical-align: middle;\n",
              "    }\n",
              "\n",
              "    .dataframe tbody tr th {\n",
              "        vertical-align: top;\n",
              "    }\n",
              "\n",
              "    .dataframe thead th {\n",
              "        text-align: right;\n",
              "    }\n",
              "</style>\n",
              "<table border=\"1\" class=\"dataframe\">\n",
              "  <thead>\n",
              "    <tr style=\"text-align: right;\">\n",
              "      <th></th>\n",
              "      <th>Sample</th>\n",
              "      <th>mcg</th>\n",
              "      <th>gvh</th>\n",
              "      <th>alm</th>\n",
              "      <th>mit</th>\n",
              "      <th>erl</th>\n",
              "      <th>pox</th>\n",
              "      <th>vac</th>\n",
              "      <th>nuc</th>\n",
              "    </tr>\n",
              "  </thead>\n",
              "  <tbody>\n",
              "    <tr>\n",
              "      <th>count</th>\n",
              "      <td>1484.000000</td>\n",
              "      <td>1484.000000</td>\n",
              "      <td>1484.000000</td>\n",
              "      <td>1484.000000</td>\n",
              "      <td>1484.000000</td>\n",
              "      <td>1484.000000</td>\n",
              "      <td>1484.000000</td>\n",
              "      <td>1484.000000</td>\n",
              "      <td>1484.000000</td>\n",
              "    </tr>\n",
              "    <tr>\n",
              "      <th>mean</th>\n",
              "      <td>742.500000</td>\n",
              "      <td>0.497628</td>\n",
              "      <td>0.499643</td>\n",
              "      <td>0.506167</td>\n",
              "      <td>0.260432</td>\n",
              "      <td>0.506739</td>\n",
              "      <td>0.007500</td>\n",
              "      <td>0.504199</td>\n",
              "      <td>0.276712</td>\n",
              "    </tr>\n",
              "    <tr>\n",
              "      <th>std</th>\n",
              "      <td>428.538213</td>\n",
              "      <td>0.131472</td>\n",
              "      <td>0.121954</td>\n",
              "      <td>0.199840</td>\n",
              "      <td>0.150817</td>\n",
              "      <td>0.091580</td>\n",
              "      <td>0.075683</td>\n",
              "      <td>0.153488</td>\n",
              "      <td>0.152315</td>\n",
              "    </tr>\n",
              "    <tr>\n",
              "      <th>min</th>\n",
              "      <td>1.000000</td>\n",
              "      <td>0.110000</td>\n",
              "      <td>0.130000</td>\n",
              "      <td>0.210000</td>\n",
              "      <td>0.000000</td>\n",
              "      <td>0.500000</td>\n",
              "      <td>0.000000</td>\n",
              "      <td>0.000000</td>\n",
              "      <td>0.000000</td>\n",
              "    </tr>\n",
              "    <tr>\n",
              "      <th>25%</th>\n",
              "      <td>371.750000</td>\n",
              "      <td>0.410000</td>\n",
              "      <td>0.420000</td>\n",
              "      <td>0.460000</td>\n",
              "      <td>0.170000</td>\n",
              "      <td>0.500000</td>\n",
              "      <td>0.000000</td>\n",
              "      <td>0.480000</td>\n",
              "      <td>0.220000</td>\n",
              "    </tr>\n",
              "    <tr>\n",
              "      <th>50%</th>\n",
              "      <td>742.500000</td>\n",
              "      <td>0.480000</td>\n",
              "      <td>0.490000</td>\n",
              "      <td>0.510000</td>\n",
              "      <td>0.220000</td>\n",
              "      <td>0.500000</td>\n",
              "      <td>0.000000</td>\n",
              "      <td>0.510000</td>\n",
              "      <td>0.220000</td>\n",
              "    </tr>\n",
              "    <tr>\n",
              "      <th>75%</th>\n",
              "      <td>1113.250000</td>\n",
              "      <td>0.562500</td>\n",
              "      <td>0.570000</td>\n",
              "      <td>0.550000</td>\n",
              "      <td>0.300000</td>\n",
              "      <td>0.500000</td>\n",
              "      <td>0.000000</td>\n",
              "      <td>0.530000</td>\n",
              "      <td>0.290000</td>\n",
              "    </tr>\n",
              "    <tr>\n",
              "      <th>max</th>\n",
              "      <td>1484.000000</td>\n",
              "      <td>1.000000</td>\n",
              "      <td>1.000000</td>\n",
              "      <td>7.501819</td>\n",
              "      <td>3.000728</td>\n",
              "      <td>3.500849</td>\n",
              "      <td>0.830000</td>\n",
              "      <td>6.001456</td>\n",
              "      <td>4.501092</td>\n",
              "    </tr>\n",
              "  </tbody>\n",
              "</table>\n",
              "</div>"
            ],
            "text/plain": [
              "            Sample          mcg  ...          vac          nuc\n",
              "count  1484.000000  1484.000000  ...  1484.000000  1484.000000\n",
              "mean    742.500000     0.497628  ...     0.504199     0.276712\n",
              "std     428.538213     0.131472  ...     0.153488     0.152315\n",
              "min       1.000000     0.110000  ...     0.000000     0.000000\n",
              "25%     371.750000     0.410000  ...     0.480000     0.220000\n",
              "50%     742.500000     0.480000  ...     0.510000     0.220000\n",
              "75%    1113.250000     0.562500  ...     0.530000     0.290000\n",
              "max    1484.000000     1.000000  ...     6.001456     4.501092\n",
              "\n",
              "[8 rows x 9 columns]"
            ]
          },
          "metadata": {
            "tags": []
          }
        }
      ]
    },
    {
      "cell_type": "markdown",
      "metadata": {
        "id": "2jQ3Rl9goE20"
      },
      "source": [
        " #### Discussion\n",
        "Imputation by median would be a better option to go with in this dataset due to the existence of outliers. From the data frame we can see that columns mcg ,gvh, alm, mit, erl, vac, nuc has NaN values. If we check the description of these columns we can see that most of these columns have very high maximum values as compared to the means. This implies that our means will be affected by these high figures and as a result it would not be a great idea to replace the missing figures by mean. Instead using median will ensure that middle most values will be filled where we have missing figures, hence providing better results. \n",
        "\n"
      ]
    },
    {
      "cell_type": "markdown",
      "metadata": {
        "id": "f8kBJjWzLrRg"
      },
      "source": [
        "### Scaling"
      ]
    },
    {
      "cell_type": "code",
      "metadata": {
        "id": "7SxYZSg6TVD2"
      },
      "source": [
        "#scaling\n",
        "# by standardisation\n",
        "yeast_median_impute_stand = all_yeast_median_impute.copy()\n",
        "sc_median_imputed = StandardScaler()\n",
        "X_stand = sc_median_imputed.fit_transform(median_imputed)\n",
        "yeast_median_impute_stand.iloc[:, 1 : 9] = X_stand"
      ],
      "execution_count": null,
      "outputs": []
    },
    {
      "cell_type": "code",
      "metadata": {
        "id": "KxFwmzr1XNxS"
      },
      "source": [
        "# by mean-centering\n",
        "yeast_median_impute_cent = all_yeast_median_impute.copy()\n",
        "yeast_median_impute_cent.iloc[:,1:9] = yeast_median_impute_cent.iloc[:,1:9].subtract(yeast_median_impute_cent.iloc[:,1:9].mean())"
      ],
      "execution_count": null,
      "outputs": []
    },
    {
      "cell_type": "code",
      "metadata": {
        "id": "NiA3FdNhasrL",
        "colab": {
          "base_uri": "https://localhost:8080/",
          "height": 636
        },
        "outputId": "eea2f0c3-13ee-4a55-900a-0377e400a807"
      },
      "source": [
        "import seaborn as sns\n",
        "import matplotlib\n",
        "sns.distplot(all_yeast_median_impute[\"mcg\"], hist=False, kde=True, \n",
        "            bins=int(180/5), color = 'blue',\n",
        "            hist_kws={'edgecolor':'black'},\n",
        "            kde_kws={'linewidth': 4})\n",
        "sns.distplot(yeast_median_impute_cent[\"mcg\"], hist=False, kde=True, \n",
        "            bins=int(180/5), color = 'green',\n",
        "            hist_kws={'edgecolor':'black'},\n",
        "            kde_kws={'linewidth': 4})\n",
        "sns.distplot(yeast_median_impute_stand[\"mcg\"], hist=False, kde=True, \n",
        "            bins=int(180/5), color = 'red',\n",
        "            hist_kws={'edgecolor':'black'},\n",
        "            kde_kws={'linewidth': 4})\n",
        "\n",
        "fig = matplotlib.pyplot.gcf()\n",
        "fig.set_size_inches(18.5, 10.5)\n",
        "fig.savefig('test2png.png', dpi=100)\n"
      ],
      "execution_count": null,
      "outputs": [
        {
          "output_type": "display_data",
          "data": {
            "image/png": "[encoded data removed]",
            "text/plain": [
              "<Figure size 1332x756 with 1 Axes>"
            ]
          },
          "metadata": {
            "tags": []
          }
        }
      ]
    },
    {
      "cell_type": "markdown",
      "metadata": {
        "id": "mxHTXeYfKdGK"
      },
      "source": [
        "## Comparing Classification Algorithms"
      ]
    },
    {
      "cell_type": "markdown",
      "metadata": {
        "id": "JDhTy1klL2uo"
      },
      "source": [
        "### KNN 5"
      ]
    },
    {
      "cell_type": "code",
      "metadata": {
        "id": "cj8W4nSGoys3",
        "colab": {
          "base_uri": "https://localhost:8080/",
          "height": 34
        },
        "outputId": "92737099-d3b2-4691-ca0b-d32cf1e775e7"
      },
      "source": [
        "\n",
        "##get just the features\n",
        "data=yeast_median_impute_cent[['mcg','gvh','alm','mit','erl','pox','vac','nuc']].astype(float)\n",
        "\n",
        "##get just the class labels\n",
        "classlabel=yeast_median_impute_cent['Class']\n",
        "\n",
        "#splitting data into training and test set\n",
        "##randomly select 66.67% of the instances to be training and the rest to be testing\n",
        "X_train, X_test, y_train, y_test = train_test_split(data,classlabel, train_size=2/3, test_size=1/3, random_state = 44)\n",
        "\n",
        "## Setting n = 5 \n",
        "knn = neighbors.KNeighborsClassifier(n_neighbors=5)\n",
        "knn.fit(X_train, y_train)\n",
        "\n",
        "y_pred=knn.predict(X_test)\n",
        "print(accuracy_score(y_test, y_pred))\n"
      ],
      "execution_count": null,
      "outputs": [
        {
          "output_type": "stream",
          "text": [
            "0.7191919191919192\n"
          ],
          "name": "stdout"
        }
      ]
    },
    {
      "cell_type": "code",
      "metadata": {
        "id": "ugXNyS0GChiv",
        "colab": {
          "base_uri": "https://localhost:8080/",
          "height": 34
        },
        "outputId": "b9f2c86d-cfa3-4f60-f8ef-41038cf86249"
      },
      "source": [
        "from sklearn.ensemble import RandomForestClassifier\n",
        "\n",
        "clf=RandomForestClassifier(n_estimators=100)\n",
        "\n",
        "clf.fit(X_train,y_train)\n",
        "\n",
        "y_pred=clf.predict(X_test)\n",
        "\n",
        "from sklearn import metrics\n",
        "# Model Accuracy, how often is the classifier correct?\n",
        "print(\"Accuracy:\",metrics.accuracy_score(y_test, y_pred))"
      ],
      "execution_count": null,
      "outputs": [
        {
          "output_type": "stream",
          "text": [
            "Accuracy: 0.7353535353535353\n"
          ],
          "name": "stdout"
        }
      ]
    },
    {
      "cell_type": "markdown",
      "metadata": {
        "id": "opO6p-FmL-KI"
      },
      "source": [
        "###  KNN 10"
      ]
    },
    {
      "cell_type": "code",
      "metadata": {
        "id": "7_qu3PrhvbXk",
        "colab": {
          "base_uri": "https://localhost:8080/",
          "height": 34
        },
        "outputId": "33b83889-21fc-4682-989f-faa8b882d304"
      },
      "source": [
        "## n = 10 \n",
        "\n",
        "knn = neighbors.KNeighborsClassifier(n_neighbors=10)\n",
        "knn.fit(X_train, y_train)\n",
        "\n",
        "y_pred=knn.predict(X_test)\n",
        "print(accuracy_score(y_test, y_pred))"
      ],
      "execution_count": null,
      "outputs": [
        {
          "output_type": "stream",
          "text": [
            "0.703030303030303\n"
          ],
          "name": "stdout"
        }
      ]
    },
    {
      "cell_type": "markdown",
      "metadata": {
        "id": "WB58C9GAMGMa"
      },
      "source": [
        "### Decision Tree"
      ]
    },
    {
      "cell_type": "code",
      "metadata": {
        "id": "UWvjXD2TveBz",
        "colab": {
          "base_uri": "https://localhost:8080/",
          "height": 34
        },
        "outputId": "6295dfa1-2f11-4de5-8db1-8cee5a840f22"
      },
      "source": [
        "## Decision Tree Algorithams.\n",
        "from sklearn.tree import DecisionTreeClassifier\n",
        "\n",
        "dt = DecisionTreeClassifier(criterion=\"entropy\",random_state=1, max_depth=7)\n",
        "dt.fit(X_train, y_train)\n",
        "\n",
        "y_pred=dt.predict(X_test)\n",
        "print(accuracy_score(y_test, y_pred))\n"
      ],
      "execution_count": null,
      "outputs": [
        {
          "output_type": "stream",
          "text": [
            "0.6727272727272727\n"
          ],
          "name": "stdout"
        }
      ]
    },
    {
      "cell_type": "markdown",
      "metadata": {
        "id": "8Q5Xly491FvB"
      },
      "source": [
        "### Discussion\n",
        "\n",
        "K-Neighbours Classifier with n = 5 produces the highest accuracy of 71.92. The Data all_yeast  \n",
        "      Divided into training and test set in ratio of 2/3 to 1/3. Where 2/3 of data is used for training  \n",
        "      The K-Neighbours Classifier and the rest of 1/3 data is used for testing, where the classifier   \n",
        "      Predicts the class type based on eight given features. According to the experiments we can\n",
        "      Clearly see that the accuracy of this prediction is better when we use N_Neighbours = 5 rather \n",
        "      Then 10. Even though large values of k in K-Neighbour classifier leads to minimisation of error \n",
        "      Error rate but at the same time choosing higher k leads to less-distinct bounderies among  \n",
        "      Classes hence this could be the reason why k = 5 leads to better results rather then\n",
        "      K = 10. Secondly we have also used decision tree classifier to predict class types, in this case \n",
        "      Data set has 8 different attributes and as result the tree and nodes become more complex\n",
        "      Hence resulting in a lower accuracy result. Hence it can be concluded that n = 5    neighbourhood is   \n",
        "      The best measure of accuracy in this case."
      ]
    },
    {
      "cell_type": "code",
      "metadata": {
        "id": "v43dElCxiO3f",
        "colab": {
          "base_uri": "https://localhost:8080/",
          "height": 204
        },
        "outputId": "c558df99-0c85-4600-ccfe-9c1d3b5eb08d"
      },
      "source": [
        "yeast_median_impute_cent.head()"
      ],
      "execution_count": null,
      "outputs": [
        {
          "output_type": "execute_result",
          "data": {
            "text/html": [
              "<div>\n",
              "<style scoped>\n",
              "    .dataframe tbody tr th:only-of-type {\n",
              "        vertical-align: middle;\n",
              "    }\n",
              "\n",
              "    .dataframe tbody tr th {\n",
              "        vertical-align: top;\n",
              "    }\n",
              "\n",
              "    .dataframe thead th {\n",
              "        text-align: right;\n",
              "    }\n",
              "</style>\n",
              "<table border=\"1\" class=\"dataframe\">\n",
              "  <thead>\n",
              "    <tr style=\"text-align: right;\">\n",
              "      <th></th>\n",
              "      <th>Sample</th>\n",
              "      <th>mcg</th>\n",
              "      <th>gvh</th>\n",
              "      <th>alm</th>\n",
              "      <th>mit</th>\n",
              "      <th>erl</th>\n",
              "      <th>pox</th>\n",
              "      <th>vac</th>\n",
              "      <th>nuc</th>\n",
              "      <th>Class</th>\n",
              "    </tr>\n",
              "  </thead>\n",
              "  <tbody>\n",
              "    <tr>\n",
              "      <th>0</th>\n",
              "      <td>1</td>\n",
              "      <td>0.082372</td>\n",
              "      <td>0.110357</td>\n",
              "      <td>-0.036167</td>\n",
              "      <td>-0.130432</td>\n",
              "      <td>-0.006739</td>\n",
              "      <td>-0.0075</td>\n",
              "      <td>-0.024199</td>\n",
              "      <td>-0.056712</td>\n",
              "      <td>non-CYT</td>\n",
              "    </tr>\n",
              "    <tr>\n",
              "      <th>1</th>\n",
              "      <td>2</td>\n",
              "      <td>-0.067628</td>\n",
              "      <td>0.170357</td>\n",
              "      <td>-0.026167</td>\n",
              "      <td>0.009568</td>\n",
              "      <td>-0.006739</td>\n",
              "      <td>-0.0075</td>\n",
              "      <td>0.025801</td>\n",
              "      <td>-0.056712</td>\n",
              "      <td>non-CYT</td>\n",
              "    </tr>\n",
              "    <tr>\n",
              "      <th>2</th>\n",
              "      <td>3</td>\n",
              "      <td>0.142372</td>\n",
              "      <td>0.120357</td>\n",
              "      <td>-0.016167</td>\n",
              "      <td>-0.110432</td>\n",
              "      <td>-0.006739</td>\n",
              "      <td>-0.0075</td>\n",
              "      <td>0.025801</td>\n",
              "      <td>-0.056712</td>\n",
              "      <td>non-CYT</td>\n",
              "    </tr>\n",
              "    <tr>\n",
              "      <th>3</th>\n",
              "      <td>4</td>\n",
              "      <td>0.082372</td>\n",
              "      <td>-0.059643</td>\n",
              "      <td>0.063833</td>\n",
              "      <td>-0.130432</td>\n",
              "      <td>-0.006739</td>\n",
              "      <td>-0.0075</td>\n",
              "      <td>0.035801</td>\n",
              "      <td>-0.056712</td>\n",
              "      <td>non-CYT</td>\n",
              "    </tr>\n",
              "    <tr>\n",
              "      <th>4</th>\n",
              "      <td>5</td>\n",
              "      <td>-0.077628</td>\n",
              "      <td>-0.059643</td>\n",
              "      <td>-0.026167</td>\n",
              "      <td>0.279568</td>\n",
              "      <td>-0.006739</td>\n",
              "      <td>-0.0075</td>\n",
              "      <td>-0.024199</td>\n",
              "      <td>-0.056712</td>\n",
              "      <td>non-CYT</td>\n",
              "    </tr>\n",
              "  </tbody>\n",
              "</table>\n",
              "</div>"
            ],
            "text/plain": [
              "   Sample       mcg       gvh       alm  ...     pox       vac       nuc    Class\n",
              "0       1  0.082372  0.110357 -0.036167  ... -0.0075 -0.024199 -0.056712  non-CYT\n",
              "1       2 -0.067628  0.170357 -0.026167  ... -0.0075  0.025801 -0.056712  non-CYT\n",
              "2       3  0.142372  0.120357 -0.016167  ... -0.0075  0.025801 -0.056712  non-CYT\n",
              "3       4  0.082372 -0.059643  0.063833  ... -0.0075  0.035801 -0.056712  non-CYT\n",
              "4       5 -0.077628 -0.059643 -0.026167  ... -0.0075 -0.024199 -0.056712  non-CYT\n",
              "\n",
              "[5 rows x 10 columns]"
            ]
          },
          "metadata": {
            "tags": []
          },
          "execution_count": 11
        }
      ]
    },
    {
      "cell_type": "code",
      "metadata": {
        "id": "J0ttHylnh3AK",
        "colab": {
          "base_uri": "https://localhost:8080/",
          "height": 796
        },
        "outputId": "394de5ac-73c2-4188-c40e-0ba48cda9d0f"
      },
      "source": [
        "e# Compare Algorithms\n",
        "import pandas\n",
        "import matplotlib.pyplot as plt\n",
        "from sklearn import model_selection\n",
        "from sklearn.linear_model import LogisticRegression\n",
        "from sklearn.tree import DecisionTreeClassifier\n",
        "from sklearn.neighbors import KNeighborsClassifier\n",
        "from sklearn.discriminant_analysis import LinearDiscriminantAnalysis\n",
        "from sklearn.naive_bayes import GaussianNB\n",
        "from sklearn.svm import SVC\n",
        "# load dataset\n",
        "dataframe = yeast_median_impute_cent\n",
        "array = dataframe.values\n",
        "X = array[:,1:9]\n",
        "Y = array[:,9]\n",
        "# prepare configuration for cross validation test harness\n",
        "seed = 42\n",
        "# prepare models\n",
        "models = []\n",
        "models.append(('LR', LogisticRegression()))\n",
        "models.append(('LDA', LinearDiscriminantAnalysis()))\n",
        "models.append(('KNN', KNeighborsClassifier()))\n",
        "models.append(('CART', DecisionTreeClassifier()))\n",
        "models.append(('NB', GaussianNB()))\n",
        "models.append(('SVM', SVC()))\n",
        "# evaluate each model in turn\n",
        "results = []\n",
        "names = []\n",
        "scoring = 'accuracy'\n",
        "for name, model in models:\n",
        "\tkfold = model_selection.KFold(n_splits=10, random_state=seed)\n",
        "\tcv_results = model_selection.cross_val_score(model, X, Y, cv=kfold, scoring=scoring)\n",
        "\tresults.append(cv_results)\n",
        "\tnames.append(name)\n",
        "\tmsg = \"%s: %f (%f)\" % (name, cv_results.mean(), cv_results.std())\n",
        "\tprint(msg)\n",
        "# boxplot algorithm comparison\n",
        "fig = plt.figure()\n",
        "fig.suptitle('Algorithm Comparison')\n",
        "ax = fig.add_subplot(111)\n",
        "plt.boxplot(results)\n",
        "ax.set_xticklabels(names)\n",
        "# plt.show()\n",
        "fig = matplotlib.pyplot.gcf()\n",
        "fig.set_size_inches(18.5, 10.5)\n",
        "fig.savefig('test2png.png', dpi=100)"
      ],
      "execution_count": null,
      "outputs": [
        {
          "output_type": "stream",
          "text": [
            "LR: 0.674469 (0.129796)\n",
            "LDA: 0.678523 (0.135869)\n",
            "KNN: 0.664357 (0.088540)\n",
            "CART: 0.669826 (0.055877)\n",
            "NB: 0.594436 (0.106719)\n",
            "SVM: 0.687960 (0.141496)\n"
          ],
          "name": "stdout"
        },
        {
          "output_type": "display_data",
          "data": {
            "image/png": "[encoded data removed]",
            "text/plain": [
              "<Figure size 1332x756 with 1 Axes>"
            ]
          },
          "metadata": {
            "tags": []
          }
        }
      ]
    },
    {
      "cell_type": "markdown",
      "metadata": {
        "id": "xexK903fKo3R"
      },
      "source": [
        "## Feature Engineering"
      ]
    },
    {
      "cell_type": "markdown",
      "metadata": {
        "id": "D38U2wrgKxci"
      },
      "source": [
        "### Interaction term pairs."
      ]
    },
    {
      "cell_type": "code",
      "metadata": {
        "id": "YCKplKULcggl"
      },
      "source": [
        "# Polynomial featuring done here\n",
        "\n",
        "median_imputed_polynom = all_yeast_median_impute.copy()\n",
        "median_imputed_polynom = median_imputed_polynom.drop('Sample', axis = 1).drop('Class', axis = 1)\n",
        "poly = PolynomialFeatures(interaction_only=True,include_bias = False)\n",
        "polynomial_data = poly.fit_transform(median_imputed_polynom)\n"
      ],
      "execution_count": null,
      "outputs": []
    },
    {
      "cell_type": "code",
      "metadata": {
        "id": "cSLZOU9ny_b7"
      },
      "source": [
        "#building the new dataframe here\n",
        "\n",
        "orignal_attributes = median_imputed_polynom.columns.tolist() # column headings\n",
        "new_attributes = ['mcggvh','mcgalm','mcgmit','mcgerl','mcgpox','mcgvac','mcgnuc','gvhalm','gvhmit','gvherl','gvhpox','gvhvac','gvhnuc','almmit','almerl','almpox','almvac','almnuc','miterl','mitpox','mitvac','mitnuc','erlpox','erlvac','erlnuc','poxvac','poxnuc','vacnuc']\n",
        "new_columns = orignal_attributes + new_attributes\n",
        "\n",
        "all_features = pd.DataFrame(data = polynomial_data , columns = new_columns)"
      ],
      "execution_count": null,
      "outputs": []
    },
    {
      "cell_type": "code",
      "metadata": {
        "id": "xfuhORtJZXoM"
      },
      "source": [
        "all_features_norml = all_features.subtract(all_features.mean())\n",
        "X_train, X_test, y_train, y_test = train_test_split(all_features_norml,classlabel, train_size=0.66, test_size=0.34, random_state=44)"
      ],
      "execution_count": null,
      "outputs": []
    },
    {
      "cell_type": "code",
      "metadata": {
        "id": "njctJMuCd0ee"
      },
      "source": [
        "MI = {}                                                                         \n",
        "for f in all_features_norml:                                                    \n",
        "    MI[f] = mutual_info_score(X_train[f], y_train)                              \n",
        "MI = pd.Series(MI)                                                              "
      ],
      "execution_count": null,
      "outputs": []
    },
    {
      "cell_type": "code",
      "metadata": {
        "id": "Y1nYFL8KiF1f",
        "colab": {
          "base_uri": "https://localhost:8080/",
          "height": 652
        },
        "outputId": "1ba20f90-2091-47af-d5f0-096a6299979e"
      },
      "source": [
        "MI.sort_values(ascending = False, inplace=True)\n",
        "MI.plot.bar()\n",
        "fig = matplotlib.pyplot.gcf()\n",
        "fig.set_size_inches(18.5, 10.5)\n",
        "fig.savefig('test2png.png', dpi=100)"
      ],
      "execution_count": null,
      "outputs": [
        {
          "output_type": "display_data",
          "data": {
            "image/png": "[encoded data removed]",
            "text/plain": [
              "<Figure size 1332x756 with 1 Axes>"
            ]
          },
          "metadata": {
            "tags": []
          }
        }
      ]
    },
    {
      "cell_type": "code",
      "metadata": {
        "id": "VVU2gDUQIgJx",
        "colab": {
          "base_uri": "https://localhost:8080/",
          "height": 221
        },
        "outputId": "80aed98d-8b90-4a91-a22a-2361a872581a"
      },
      "source": [
        "# https://stackoverflow.com/questions/15821116/how-to-measure-the-accuracy-of-knn-classifier-in-python\n",
        "from sklearn.metrics import classification_report\n",
        "from sklearn.metrics import confusion_matrix\n",
        "knn = neighbors.KNeighborsClassifier(n_neighbors=5)\n",
        "knn.fit(X_train[MI.nlargest(15).index], y_train)\n",
        "y_pred=knn.predict(X_test[MI.nlargest(15).index])\n",
        "\n",
        "print(accuracy_score(y_test, y_pred))\n",
        "print(classification_report(y_test, y_pred))\n",
        "print(confusion_matrix(y_test, y_pred))"
      ],
      "execution_count": null,
      "outputs": [
        {
          "output_type": "stream",
          "text": [
            "0.7366336633663366\n",
            "              precision    recall  f1-score   support\n",
            "\n",
            "         CYT       0.57      0.47      0.52       151\n",
            "     non-CYT       0.79      0.85      0.82       354\n",
            "\n",
            "    accuracy                           0.74       505\n",
            "   macro avg       0.68      0.66      0.67       505\n",
            "weighted avg       0.73      0.74      0.73       505\n",
            "\n",
            "[[ 71  80]\n",
            " [ 53 301]]\n"
          ],
          "name": "stdout"
        }
      ]
    },
    {
      "cell_type": "code",
      "metadata": {
        "id": "p1ylN-EMLsae",
        "colab": {
          "base_uri": "https://localhost:8080/",
          "height": 204
        },
        "outputId": "bd4b1dda-733b-4803-b972-f63bc42eee1a"
      },
      "source": [
        "# https://stackoverflow.com/questions/39662398/scikit-learn-output-metrics-classification-report-into-csv-tab-delimited-format\n",
        "report = classification_report(y_test, y_pred, output_dict=True)\n",
        "df = pd.DataFrame(report).transpose()\n",
        "df"
      ],
      "execution_count": null,
      "outputs": [
        {
          "output_type": "execute_result",
          "data": {
            "text/html": [
              "<div>\n",
              "<style scoped>\n",
              "    .dataframe tbody tr th:only-of-type {\n",
              "        vertical-align: middle;\n",
              "    }\n",
              "\n",
              "    .dataframe tbody tr th {\n",
              "        vertical-align: top;\n",
              "    }\n",
              "\n",
              "    .dataframe thead th {\n",
              "        text-align: right;\n",
              "    }\n",
              "</style>\n",
              "<table border=\"1\" class=\"dataframe\">\n",
              "  <thead>\n",
              "    <tr style=\"text-align: right;\">\n",
              "      <th></th>\n",
              "      <th>f1-score</th>\n",
              "      <th>precision</th>\n",
              "      <th>recall</th>\n",
              "      <th>support</th>\n",
              "    </tr>\n",
              "  </thead>\n",
              "  <tbody>\n",
              "    <tr>\n",
              "      <th>CYT</th>\n",
              "      <td>0.516364</td>\n",
              "      <td>0.572581</td>\n",
              "      <td>0.470199</td>\n",
              "      <td>151.000000</td>\n",
              "    </tr>\n",
              "    <tr>\n",
              "      <th>non-CYT</th>\n",
              "      <td>0.819048</td>\n",
              "      <td>0.790026</td>\n",
              "      <td>0.850282</td>\n",
              "      <td>354.000000</td>\n",
              "    </tr>\n",
              "    <tr>\n",
              "      <th>accuracy</th>\n",
              "      <td>0.736634</td>\n",
              "      <td>0.736634</td>\n",
              "      <td>0.736634</td>\n",
              "      <td>0.736634</td>\n",
              "    </tr>\n",
              "    <tr>\n",
              "      <th>macro avg</th>\n",
              "      <td>0.667706</td>\n",
              "      <td>0.681303</td>\n",
              "      <td>0.660241</td>\n",
              "      <td>505.000000</td>\n",
              "    </tr>\n",
              "    <tr>\n",
              "      <th>weighted avg</th>\n",
              "      <td>0.728542</td>\n",
              "      <td>0.725008</td>\n",
              "      <td>0.736634</td>\n",
              "      <td>505.000000</td>\n",
              "    </tr>\n",
              "  </tbody>\n",
              "</table>\n",
              "</div>"
            ],
            "text/plain": [
              "              f1-score  precision    recall     support\n",
              "CYT           0.516364   0.572581  0.470199  151.000000\n",
              "non-CYT       0.819048   0.790026  0.850282  354.000000\n",
              "accuracy      0.736634   0.736634  0.736634    0.736634\n",
              "macro avg     0.667706   0.681303  0.660241  505.000000\n",
              "weighted avg  0.728542   0.725008  0.736634  505.000000"
            ]
          },
          "metadata": {
            "tags": []
          },
          "execution_count": 22
        }
      ]
    },
    {
      "cell_type": "code",
      "metadata": {
        "id": "MW0aXeJ2PgOi",
        "colab": {
          "base_uri": "https://localhost:8080/",
          "height": 111
        },
        "outputId": "ad85e43b-1d22-4be2-9824-a16308e8c89b"
      },
      "source": [
        "# https://gist.github.com/nickynicolson/202fe765c99af49acb20ea9f77b6255e\n",
        "from sklearn.metrics import confusion_matrix\n",
        "import pandas as pd\n",
        "\n",
        "def cm2df(cm, labels):\n",
        "    df = pd.DataFrame()\n",
        "    # rows\n",
        "    for i, row_label in enumerate(labels):\n",
        "        rowdata={}\n",
        "        # columns\n",
        "        for j, col_label in enumerate(labels): \n",
        "            rowdata[col_label]=cm[i,j]\n",
        "        df = df.append(pd.DataFrame.from_dict({row_label:rowdata}, orient='index'))\n",
        "    return df[labels]\n",
        "\n",
        "# to use, first generate confusion matrix:\n",
        "cm = confusion_matrix(y_test, y_pred)\n",
        "# then convert to pandas DataFrame:\n",
        "cm_as_df=cm2df(cm,[\"CYT\",\"non-CYT\"])\n",
        "# and output:\n",
        "cm_as_df"
      ],
      "execution_count": null,
      "outputs": [
        {
          "output_type": "execute_result",
          "data": {
            "text/html": [
              "<div>\n",
              "<style scoped>\n",
              "    .dataframe tbody tr th:only-of-type {\n",
              "        vertical-align: middle;\n",
              "    }\n",
              "\n",
              "    .dataframe tbody tr th {\n",
              "        vertical-align: top;\n",
              "    }\n",
              "\n",
              "    .dataframe thead th {\n",
              "        text-align: right;\n",
              "    }\n",
              "</style>\n",
              "<table border=\"1\" class=\"dataframe\">\n",
              "  <thead>\n",
              "    <tr style=\"text-align: right;\">\n",
              "      <th></th>\n",
              "      <th>CYT</th>\n",
              "      <th>non-CYT</th>\n",
              "    </tr>\n",
              "  </thead>\n",
              "  <tbody>\n",
              "    <tr>\n",
              "      <th>CYT</th>\n",
              "      <td>71</td>\n",
              "      <td>80</td>\n",
              "    </tr>\n",
              "    <tr>\n",
              "      <th>non-CYT</th>\n",
              "      <td>53</td>\n",
              "      <td>301</td>\n",
              "    </tr>\n",
              "  </tbody>\n",
              "</table>\n",
              "</div>"
            ],
            "text/plain": [
              "         CYT  non-CYT\n",
              "CYT       71       80\n",
              "non-CYT   53      301"
            ]
          },
          "metadata": {
            "tags": []
          },
          "execution_count": 23
        }
      ]
    },
    {
      "cell_type": "code",
      "metadata": {
        "id": "_MLLysa3zftq",
        "colab": {
          "base_uri": "https://localhost:8080/",
          "height": 636
        },
        "outputId": "ae10051a-8afc-46ab-9a2c-ed43222508a2"
      },
      "source": [
        "feat = []\n",
        "k_5 = []\n",
        "k_10 = []\n",
        "rf = []\n",
        "\n",
        "for i in range(1,36):\n",
        "    \n",
        "    feat.append(i)\n",
        "    knn = neighbors.KNeighborsClassifier(n_neighbors=5)\n",
        "    knn.fit(X_train[MI.nlargest(i).index], y_train)\n",
        "\n",
        "    y_pred=knn.predict(X_test[MI.nlargest(i).index])\n",
        "    k_5.append(accuracy_score(y_test, y_pred))\n",
        "\n",
        "    knn = neighbors.KNeighborsClassifier(n_neighbors=10)\n",
        "    knn.fit(X_train[MI.nlargest(i).index], y_train)\n",
        "\n",
        "    y_pred=knn.predict(X_test[MI.nlargest(i).index])\n",
        "    k_10.append(accuracy_score(y_test, y_pred))\n",
        "    \n",
        "\n",
        "    #Create a Gaussian Classifier\n",
        "    clf=RandomForestClassifier(n_estimators=100, random_state = 0 )\n",
        "\n",
        "    #Train the model using the training sets y_pred=clf.predict(X_test)\n",
        "    clf.fit(X_train[MI.nlargest(i).index], y_train)\n",
        "\n",
        "    y_pred=clf.predict(X_test[MI.nlargest(i).index])\n",
        "\n",
        "    # Model Accuracy, how often is the classifier correct?\n",
        "    rf.append(metrics.accuracy_score(y_test, y_pred))\n",
        "    \n",
        "plt.plot(feat, k_5, color='purple')\n",
        "plt.plot(feat, k_10, color='orange')\n",
        "plt.plot(feat, rf, color = 'black')\n",
        "plt.xlabel('Top x features')\n",
        "plt.ylabel('Accuracy')\n",
        "plt.grid()\n",
        "\n",
        "\n",
        "fig = matplotlib.pyplot.gcf()\n",
        "fig.set_size_inches(18.5, 10.5)\n",
        "fig.savefig('test2png.png', dpi=100)"
      ],
      "execution_count": null,
      "outputs": [
        {
          "output_type": "display_data",
          "data": {
            "image/png": "[encoded data removed]",
            "text/plain": [
              "<Figure size 1332x756 with 1 Axes>"
            ]
          },
          "metadata": {
            "tags": []
          }
        }
      ]
    },
    {
      "cell_type": "code",
      "metadata": {
        "id": "WVCHfip43lBe",
        "colab": {
          "base_uri": "https://localhost:8080/",
          "height": 68
        },
        "outputId": "9826cd4b-d962-4b1f-fe68-c98a8a35c256"
      },
      "source": [
        "knn = neighbors.KNeighborsClassifier(n_neighbors=5)\n",
        "knn.fit(X_train[MI.nlargest(15).index], y_train)\n",
        "y_pred=knn.predict(X_test[MI.nlargest(15).index])\n",
        "print(\"For k = 5: \", accuracy_score(y_test, y_pred))\n",
        "\n",
        "\n",
        "knn = neighbors.KNeighborsClassifier(n_neighbors=10)\n",
        "knn.fit(X_train[MI.nlargest(24).index], y_train)\n",
        "y_pred=knn.predict(X_test[MI.nlargest(24).index])\n",
        "print(\"For k = 10: \",accuracy_score(y_test, y_pred))\n",
        "\n",
        "clf=RandomForestClassifier(n_estimators=100)\n",
        "\n",
        "#Train the model using the training sets y_pred=clf.predict(X_test)\n",
        "clf.fit(X_train[MI.nlargest(20).index], y_train)\n",
        "\n",
        "y_pred=clf.predict(X_test[MI.nlargest(20).index])\n",
        "\n",
        "# Model Accuracy, how often is the classifier correct?\n",
        "print('rf accuracy:',metrics.accuracy_score(y_test, y_pred))\n",
        "\n"
      ],
      "execution_count": null,
      "outputs": [
        {
          "output_type": "stream",
          "text": [
            "For k = 5:  0.7366336633663366\n",
            "For k = 10:  0.7148514851485148\n",
            "rf accuracy: 0.7386138613861386\n"
          ],
          "name": "stdout"
        }
      ]
    },
    {
      "cell_type": "code",
      "metadata": {
        "id": "NYahSHRInEF1",
        "colab": {
          "base_uri": "https://localhost:8080/",
          "height": 34
        },
        "outputId": "b16048ad-61ec-4330-b8cd-2e1cd1e7ffe2"
      },
      "source": [
        "#Import Random Forest Model\n",
        "from sklearn.ensemble import RandomForestClassifier\n",
        "\n",
        "#Create a Gaussian Classifier\n",
        "clf=RandomForestClassifier(n_estimators=100)\n",
        "\n",
        "#Train the model using the training sets y_pred=clf.predict(X_test)\n",
        "clf.fit(X_train[MI.nlargest(15).index], y_train)\n",
        "\n",
        "y_pred=clf.predict(X_test[MI.nlargest(15).index])\n",
        "\n",
        "#Import scikit-learn metrics module for accuracy calculation\n",
        "from sklearn import metrics\n",
        "# Model Accuracy, how often is the classifier correct?\n",
        "print(\"Accuracy:\",metrics.accuracy_score(y_test, y_pred))"
      ],
      "execution_count": null,
      "outputs": [
        {
          "output_type": "stream",
          "text": [
            "Accuracy: 0.7326732673267327\n"
          ],
          "name": "stdout"
        }
      ]
    },
    {
      "cell_type": "markdown",
      "metadata": {
        "id": "c0N8a-jtatOw"
      },
      "source": [
        "### Feature generation with clustering labels"
      ]
    },
    {
      "cell_type": "code",
      "metadata": {
        "id": "EG-2kT0nLfRl"
      },
      "source": [
        "# performing Kmeans Clustering \n",
        "\n",
        "k5 = []\n",
        "k10 = []\n",
        "\n",
        "data= yeast_median_impute_cent[['mcg','gvh','alm','mit','erl','pox','vac','nuc']]\n",
        "classlabel=all_yeast['Class']\n",
        "X_train, X_test, y_train, y_test = train_test_split(data,classlabel, train_size=2/3, test_size=1/3, random_state=44)\n",
        "\n",
        "\n",
        "for i in range(1,21):\n",
        "    clustering = KMeans(n_clusters=i, init = 'k-means++', max_iter = 300, n_init = 10, random_state = 0)\n",
        "    clustering.fit(X_train)\n",
        "\n",
        "    ##adding f_cluster feature.\n",
        "    X_train[\"clusters\"] = clustering.labels_\n",
        "\n",
        "    X_test[\"clusters\"] = clustering.predict(X_test)\n",
        "\n",
        "    ## Setting n = 5 \n",
        "    knn = neighbors.KNeighborsClassifier(n_neighbors=5)\n",
        "    knn.fit(X_train, y_train)\n",
        "\n",
        "    \n",
        "    \n",
        "    y_pred=knn.predict(X_test)\n",
        "    k5.append(accuracy_score(y_test, y_pred))\n",
        "\n",
        "\n",
        "    ## Setting n = 10 \n",
        "    knn = neighbors.KNeighborsClassifier(n_neighbors=10)\n",
        "    knn.fit(X_train, y_train)\n",
        "\n",
        "    y_pred=knn.predict(X_test)\n",
        "    k10.append(accuracy_score(y_test, y_pred))"
      ],
      "execution_count": null,
      "outputs": []
    },
    {
      "cell_type": "code",
      "metadata": {
        "id": "xN-ULY45NN_C",
        "colab": {
          "base_uri": "https://localhost:8080/",
          "height": 636
        },
        "outputId": "6d93ebb2-7228-4a74-d232-b2ea5b5e44f6"
      },
      "source": [
        "plt.plot(list(range(1,21)), k5, color='g')\n",
        "plt.plot(list(range(1,21)), k10, color='orange')\n",
        "plt.xlabel('k-value')\n",
        "plt.ylabel('Accuracy')\n",
        "plt.grid()\n",
        "fig = matplotlib.pyplot.gcf()\n",
        "fig.set_size_inches(18.5, 10.5)\n",
        "fig.savefig('test2png.png', dpi=100)"
      ],
      "execution_count": null,
      "outputs": [
        {
          "output_type": "display_data",
          "data": {
            "image/png": "[encoded data removed]",
            "text/plain": [
              "<Figure size 1332x756 with 1 Axes>"
            ]
          },
          "metadata": {
            "tags": []
          }
        }
      ]
    },
    {
      "cell_type": "code",
      "metadata": {
        "id": "YCGEUb6x-C6e",
        "colab": {
          "base_uri": "https://localhost:8080/",
          "height": 51
        },
        "outputId": "5a78ecb3-f408-4a62-ec6d-f75fcb70abcb"
      },
      "source": [
        "#k5 = 6\n",
        "print(\"kNN 5-Accuracy when 6 clusters:\", k5[5])\n",
        "#k10 = 6\n",
        "print(\"kNN 10-Accuracy when 6 clusters:\", k10[5])\n",
        "\n"
      ],
      "execution_count": null,
      "outputs": [
        {
          "output_type": "stream",
          "text": [
            "kNN 5-Accuracy when 6 clusters: 0.7232323232323232\n",
            "kNN 10-Accuracy when 6 clusters: 0.7353535353535353\n"
          ],
          "name": "stdout"
        }
      ]
    },
    {
      "cell_type": "markdown",
      "metadata": {
        "id": "bQ_o87-tCx1I"
      },
      "source": [
        "### Discussion\n",
        "1.   Parameters: \n",
        "    1. Interaction term pairs:\n",
        "        * Parameter \n",
        "            * KNN=5 -> 15 Top features\n",
        "            * KNN=10 -> 24 Top features\n",
        "        * Reason: After experimenting different no. of top features and plotting the accuracies the above parameters produced highest accuracy\n",
        "    \n",
        "    2. Clustering labels:\n",
        "        * Parameter \n",
        "            * KNN:5 -> 6 Clusters\n",
        "            * KNN:10 -> 6 Clusters\n",
        "        * Reason: After experimenting different cluster and plotting the accuracies the above parameters produced highest accuracy\n",
        "\n",
        "    3. feature selection+generation: can produce a slightly better accuracies for KNN:5(2% increase) and KNN:10(1% increase)\n",
        "    \n",
        "    4. feature generation with clustering labels:can produce a slightly better accuracies for KNN:5(1% increase) and KNN:10(2% increase)\n",
        "\n",
        "    Overall Both Methods don't increase the accuracy significantly"
      ]
    }
  ]
}